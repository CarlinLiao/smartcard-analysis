{
 "cells": [
  {
   "cell_type": "code",
   "execution_count": 1,
   "metadata": {},
   "outputs": [],
   "source": [
    "import numpy as np\n",
    "import scipy.stats as st\n",
    "import matplotlib.pyplot as plt\n",
    "import pandas as pd\n",
    "from fitter import Fitter\n",
    "import warnings"
   ]
  },
  {
   "cell_type": "markdown",
   "metadata": {},
   "source": [
    "In this notebook, we'll examine the apparent headways and arrival patterns of travelers at a subway station.\n",
    "\n",
    "# Initial data processing\n",
    "\n",
    "We begin by loading in several days of Nanjing smartcard data. These datasets are large because they contain every entry and exit in the system for each day, so we'll make an effort to save memory and computational resources by filtering out extraneous information.\n",
    "\n",
    "Because the smartcard data only tracks line and station entry or exit, we can't tell what direction a user is traveling without inferring that information from the user's next exit station. For this reason (as well as for efficiency), we'll restrict our analysis to each line's terminal stations only so we know for certain that all observations will be going in one direction. \n",
    "\n",
    "Note that `Line_Id` is not necessarily the names of the actual line, e.g.\n",
    "* `Line_Id` 1: Line 1 north of Andemen (inclusive)\n",
    "* `Line_Id` 3: Line 1 south of Andemen (exclusive)\n",
    "* `Line_Id` 2: Line 2\n",
    "* `Line_Id` 7: Line 3\n",
    "* `Line_Id` 4: Line 10"
   ]
  },
  {
   "cell_type": "code",
   "execution_count": 2,
   "metadata": {},
   "outputs": [],
   "source": [
    "terminals = {1: [16], 3: [55], 2: [17, 40], 7: [89, 113], 4: [5, 64]}\n",
    "# Line 1: maigaoqiao, cpu\n",
    "# Line 2: youfangqiao, jingtianlu\n",
    "# Line 3: linchang, mozhoudonglu\n",
    "# Line 4: andemen, yushanlu"
   ]
  },
  {
   "cell_type": "markdown",
   "metadata": {},
   "source": [
    "For each line, we'll also drop all entries and exits before the first train of the day at each station."
   ]
  },
  {
   "cell_type": "code",
   "execution_count": 3,
   "metadata": {},
   "outputs": [],
   "source": [
    "first = {16: '05:42:00', 55: '05:47:00', 17: '06:00:00', 40: '06:00:00', 89: '06:00:00', 113: '06:00:00', 5: '06:00:00', 64: '06:00:00'}"
   ]
  },
  {
   "cell_type": "markdown",
   "metadata": {},
   "source": [
    "The dataframe has several columns unnecessary to this analysis, so we'll go ahead and drop those as well."
   ]
  },
  {
   "cell_type": "code",
   "execution_count": 4,
   "metadata": {},
   "outputs": [
    {
     "data": {
      "text/html": [
       "<div>\n",
       "<style scoped>\n",
       "    .dataframe tbody tr th:only-of-type {\n",
       "        vertical-align: middle;\n",
       "    }\n",
       "\n",
       "    .dataframe tbody tr th {\n",
       "        vertical-align: top;\n",
       "    }\n",
       "\n",
       "    .dataframe thead th {\n",
       "        text-align: right;\n",
       "    }\n",
       "</style>\n",
       "<table border=\"1\" class=\"dataframe\">\n",
       "  <thead>\n",
       "    <tr style=\"text-align: right;\">\n",
       "      <th></th>\n",
       "      <th>Time</th>\n",
       "      <th>Entry_Or_Exit</th>\n",
       "      <th>Line_Id</th>\n",
       "      <th>StationId</th>\n",
       "    </tr>\n",
       "  </thead>\n",
       "  <tbody>\n",
       "    <tr>\n",
       "      <th>1059063</th>\n",
       "      <td>2015-04-29 10:56:56</td>\n",
       "      <td>2</td>\n",
       "      <td>2</td>\n",
       "      <td>17</td>\n",
       "    </tr>\n",
       "    <tr>\n",
       "      <th>1322878</th>\n",
       "      <td>2015-04-29 16:48:13</td>\n",
       "      <td>2</td>\n",
       "      <td>1</td>\n",
       "      <td>16</td>\n",
       "    </tr>\n",
       "    <tr>\n",
       "      <th>576899</th>\n",
       "      <td>2015-04-29 08:41:20</td>\n",
       "      <td>2</td>\n",
       "      <td>1</td>\n",
       "      <td>16</td>\n",
       "    </tr>\n",
       "    <tr>\n",
       "      <th>1574229</th>\n",
       "      <td>2015-04-29 09:35:04</td>\n",
       "      <td>1</td>\n",
       "      <td>1</td>\n",
       "      <td>16</td>\n",
       "    </tr>\n",
       "    <tr>\n",
       "      <th>814571</th>\n",
       "      <td>2015-04-29 13:08:35</td>\n",
       "      <td>1</td>\n",
       "      <td>2</td>\n",
       "      <td>17</td>\n",
       "    </tr>\n",
       "    <tr>\n",
       "      <th>1048588</th>\n",
       "      <td>2015-04-29 17:36:48</td>\n",
       "      <td>2</td>\n",
       "      <td>1</td>\n",
       "      <td>16</td>\n",
       "    </tr>\n",
       "    <tr>\n",
       "      <th>1605586</th>\n",
       "      <td>2015-04-29 06:55:24</td>\n",
       "      <td>1</td>\n",
       "      <td>1</td>\n",
       "      <td>16</td>\n",
       "    </tr>\n",
       "    <tr>\n",
       "      <th>1168725</th>\n",
       "      <td>2015-04-29 17:24:52</td>\n",
       "      <td>1</td>\n",
       "      <td>7</td>\n",
       "      <td>89</td>\n",
       "    </tr>\n",
       "    <tr>\n",
       "      <th>119482</th>\n",
       "      <td>2015-04-29 15:28:38</td>\n",
       "      <td>1</td>\n",
       "      <td>1</td>\n",
       "      <td>16</td>\n",
       "    </tr>\n",
       "    <tr>\n",
       "      <th>135222</th>\n",
       "      <td>2015-04-29 19:12:26</td>\n",
       "      <td>2</td>\n",
       "      <td>2</td>\n",
       "      <td>17</td>\n",
       "    </tr>\n",
       "  </tbody>\n",
       "</table>\n",
       "</div>"
      ],
      "text/plain": [
       "                       Time  Entry_Or_Exit  Line_Id  StationId\n",
       "1059063 2015-04-29 10:56:56              2        2         17\n",
       "1322878 2015-04-29 16:48:13              2        1         16\n",
       "576899  2015-04-29 08:41:20              2        1         16\n",
       "1574229 2015-04-29 09:35:04              1        1         16\n",
       "814571  2015-04-29 13:08:35              1        2         17\n",
       "1048588 2015-04-29 17:36:48              2        1         16\n",
       "1605586 2015-04-29 06:55:24              1        1         16\n",
       "1168725 2015-04-29 17:24:52              1        7         89\n",
       "119482  2015-04-29 15:28:38              1        1         16\n",
       "135222  2015-04-29 19:12:26              2        2         17"
      ]
     },
     "execution_count": 4,
     "metadata": {},
     "output_type": "execute_result"
    }
   ],
   "source": [
    "df = {}\n",
    "# weekdays = ['20150428','20150429','20150430'] # tue, wed, thur\n",
    "# weekends = ['20150425', '20150426'] # sat, sun\n",
    "weekdays = ['20150429']\n",
    "weekends = ['20150426']\n",
    "header = pd.read_csv('../nanjing-data/header.csv')\n",
    "for date in (weekdays + weekends):\n",
    "    \n",
    "    # attach header\n",
    "    df[date] = pd.read_csv('../nanjing-data/{}.csv'.format(date), header=None)\n",
    "    df[date].columns = header.columns\n",
    "    \n",
    "    # drop unnecessary columns\n",
    "    df[date].drop(labels=['Card_Id', 'Card_Id_Long', 'Card_Type', 'Fare', 'Device_Id'], axis=1, inplace=True)\n",
    "    \n",
    "    # convert datetime\n",
    "    df[date]['Time'] = pd.to_datetime(df[date]['Time'])\n",
    "    \n",
    "    # drop non-terminal stations\n",
    "    for line in terminals:\n",
    "        # get indices of rows with matching the line but NOT the station\n",
    "        todrop = df[date].loc[(df[date]['Line_Id'] == line) & (~df[date]['StationId'].isin(terminals[line]))].index\n",
    "        # drop those indices\n",
    "        df[date].drop(labels=todrop, axis=0, inplace=True)\n",
    "    \n",
    "    # drop arrivals before first train\n",
    "    for station in first:\n",
    "        # construct reference time\n",
    "        ref = pd.Timestamp(date + ' ' + first[station])        \n",
    "        # get indices of rows which match the station but have time less than the reference time\n",
    "        todrop = df[date].loc[(df[date]['StationId'] == station) & (df[date]['Time'] < ref)].index\n",
    "        # drop those indices\n",
    "        df[date].drop(labels=todrop, axis=0, inplace=True)\n",
    "    \n",
    "    df[date].sort_values(by='Time', inplace=True)\n",
    "        \n",
    "df[weekdays[0]].sample(10)"
   ]
  },
  {
   "cell_type": "markdown",
   "metadata": {},
   "source": [
    "# Exploratory Headway Analysis\n",
    "\n",
    "Let's examine headways first. Fix line 1, one of its terminals, and look at entries and exits separately."
   ]
  },
  {
   "cell_type": "code",
   "execution_count": 5,
   "metadata": {},
   "outputs": [],
   "source": [
    "def plot_day(line, Line_Id, StationId, StationName, Entry_Or_Exit=2, weekend=False):\n",
    "    toplot = df[weekdays[0]]\n",
    "    titleflag = ''\n",
    "    fnflag = ''\n",
    "    if weekend:\n",
    "        toplot = df[weekends[0]]\n",
    "        titleflag = 'end '\n",
    "        fnflag = 'wknd_'\n",
    "    eoe = 'exits'\n",
    "    if Entry_Or_Exit == 1:\n",
    "        eoe = 'entrances'\n",
    "    plt.figure(figsize=(25,4))\n",
    "    toplot.loc[(toplot['Line_Id'] == Line_Id) & (toplot['StationId'] == StationId) & (toplot['Entry_Or_Exit'] == Entry_Or_Exit)]['Time'].hist(bins=1000)\n",
    "    plt.title('Station {} at {} (Line {}) over 1 week{}day'.format(eoe, StationName, line, titleflag))\n",
    "    plt.ylabel(eoe)\n",
    "    plt.xlabel('Datetime')\n",
    "    plt.savefig('figs/{}line{}{}.png'.format(fnflag,line,eoe))\n",
    "    plt.show()"
   ]
  },
  {
   "cell_type": "code",
   "execution_count": 6,
   "metadata": {},
   "outputs": [
    {
     "data": {
      "image/png": "[encoded data removed]",
      "text/plain": [
       "<matplotlib.figure.Figure at 0x7f454c390668>"
      ]
     },
     "metadata": {},
     "output_type": "display_data"
    }
   ],
   "source": [
    "plot_day('1N', 1, 16, 'Maigaoqiao')"
   ]
  },
  {
   "cell_type": "markdown",
   "metadata": {},
   "source": [
    "Note the strong clustering in the data corresponding to trains arriving. There's little reason for people to loiter in station after they've gotten off at their final stop. The headway on the northern portion of Line 1 is very short, 3 minutes, which this plot corroborates well.\n",
    "\n",
    "Let's take a look at station entrances as well."
   ]
  },
  {
   "cell_type": "code",
   "execution_count": 7,
   "metadata": {},
   "outputs": [
    {
     "data": {
      "image/png": "[encoded data removed]",
      "text/plain": [
       "<matplotlib.figure.Figure at 0x7f4529e7f128>"
      ]
     },
     "metadata": {},
     "output_type": "display_data"
    }
   ],
   "source": [
    "plot_day('1N', 1, 16, 'Maigaoqiao', Entry_Or_Exit=1)"
   ]
  },
  {
   "cell_type": "markdown",
   "metadata": {},
   "source": [
    "It's unclear whether or not entrances exhibit the same periodicity. This will require further analysis.\n",
    "\n",
    "## A little more data cleanup\n",
    "\n",
    "Now that we've finished looking at station exits, we'll drop those from our dataframes since our interest is in arrival patterns."
   ]
  },
  {
   "cell_type": "code",
   "execution_count": 8,
   "metadata": {},
   "outputs": [
    {
     "data": {
      "text/html": [
       "<div>\n",
       "<style scoped>\n",
       "    .dataframe tbody tr th:only-of-type {\n",
       "        vertical-align: middle;\n",
       "    }\n",
       "\n",
       "    .dataframe tbody tr th {\n",
       "        vertical-align: top;\n",
       "    }\n",
       "\n",
       "    .dataframe thead th {\n",
       "        text-align: right;\n",
       "    }\n",
       "</style>\n",
       "<table border=\"1\" class=\"dataframe\">\n",
       "  <thead>\n",
       "    <tr style=\"text-align: right;\">\n",
       "      <th></th>\n",
       "      <th>Time</th>\n",
       "      <th>Entry_Or_Exit</th>\n",
       "      <th>Line_Id</th>\n",
       "      <th>StationId</th>\n",
       "    </tr>\n",
       "  </thead>\n",
       "  <tbody>\n",
       "    <tr>\n",
       "      <th>113726</th>\n",
       "      <td>2015-04-29 05:42:04</td>\n",
       "      <td>1</td>\n",
       "      <td>1</td>\n",
       "      <td>16</td>\n",
       "    </tr>\n",
       "    <tr>\n",
       "      <th>780703</th>\n",
       "      <td>2015-04-29 05:42:05</td>\n",
       "      <td>1</td>\n",
       "      <td>1</td>\n",
       "      <td>16</td>\n",
       "    </tr>\n",
       "    <tr>\n",
       "      <th>1602094</th>\n",
       "      <td>2015-04-29 05:42:11</td>\n",
       "      <td>1</td>\n",
       "      <td>1</td>\n",
       "      <td>16</td>\n",
       "    </tr>\n",
       "    <tr>\n",
       "      <th>113727</th>\n",
       "      <td>2015-04-29 05:42:12</td>\n",
       "      <td>1</td>\n",
       "      <td>1</td>\n",
       "      <td>16</td>\n",
       "    </tr>\n",
       "    <tr>\n",
       "      <th>1602095</th>\n",
       "      <td>2015-04-29 05:42:14</td>\n",
       "      <td>1</td>\n",
       "      <td>1</td>\n",
       "      <td>16</td>\n",
       "    </tr>\n",
       "  </tbody>\n",
       "</table>\n",
       "</div>"
      ],
      "text/plain": [
       "                       Time  Entry_Or_Exit  Line_Id  StationId\n",
       "113726  2015-04-29 05:42:04              1        1         16\n",
       "780703  2015-04-29 05:42:05              1        1         16\n",
       "1602094 2015-04-29 05:42:11              1        1         16\n",
       "113727  2015-04-29 05:42:12              1        1         16\n",
       "1602095 2015-04-29 05:42:14              1        1         16"
      ]
     },
     "execution_count": 8,
     "metadata": {},
     "output_type": "execute_result"
    }
   ],
   "source": [
    "for date in (weekdays + weekends):\n",
    "    df[date] = df[date].loc[df[date]['Entry_Or_Exit'] == 1,:]\n",
    "df[weekdays[0]].head()"
   ]
  },
  {
   "cell_type": "markdown",
   "metadata": {},
   "source": [
    "# Simple Arrival Distribution Analysis\n",
    "\n",
    "On weekdays, the north portion of Line 1 has a fixed headway of 3 minutes (that is to say, at each station every 3 minutes another train arrives). Line 1 has a fixed, predictable headway of 3 minutes all day on weekdays, so the question we want to consider is if travelers adjust their arrival times are the station to account for these departures.\n",
    "\n",
    "We'll begin with the following processing steps:\n",
    "1. Pull out just the `Timestamp`s of entries at the Line 1 north terminus\n",
    "2. Convert raw `Timestamp` to `Timedelta` hours after midnight on the day the data is from\n",
    "3. Adjust `Timedelta` to time elapsed since the first train of the day\n",
    "4. Convert `Timedelta` to seconds for easier calculations.\n",
    "5. Use the module operator to bring all time"
   ]
  },
  {
   "cell_type": "code",
   "execution_count": 9,
   "metadata": {},
   "outputs": [
    {
     "data": {
      "text/html": [
       "<div>\n",
       "<style scoped>\n",
       "    .dataframe tbody tr th:only-of-type {\n",
       "        vertical-align: middle;\n",
       "    }\n",
       "\n",
       "    .dataframe tbody tr th {\n",
       "        vertical-align: top;\n",
       "    }\n",
       "\n",
       "    .dataframe thead th {\n",
       "        text-align: right;\n",
       "    }\n",
       "</style>\n",
       "<table border=\"1\" class=\"dataframe\">\n",
       "  <thead>\n",
       "    <tr style=\"text-align: right;\">\n",
       "      <th></th>\n",
       "      <th>Time</th>\n",
       "      <th>adj_time</th>\n",
       "      <th>arr_period</th>\n",
       "    </tr>\n",
       "  </thead>\n",
       "  <tbody>\n",
       "    <tr>\n",
       "      <th>113726</th>\n",
       "      <td>4</td>\n",
       "      <td>4</td>\n",
       "      <td>0</td>\n",
       "    </tr>\n",
       "    <tr>\n",
       "      <th>780703</th>\n",
       "      <td>5</td>\n",
       "      <td>5</td>\n",
       "      <td>0</td>\n",
       "    </tr>\n",
       "    <tr>\n",
       "      <th>1602094</th>\n",
       "      <td>11</td>\n",
       "      <td>11</td>\n",
       "      <td>0</td>\n",
       "    </tr>\n",
       "    <tr>\n",
       "      <th>113727</th>\n",
       "      <td>12</td>\n",
       "      <td>12</td>\n",
       "      <td>0</td>\n",
       "    </tr>\n",
       "    <tr>\n",
       "      <th>1602095</th>\n",
       "      <td>14</td>\n",
       "      <td>14</td>\n",
       "      <td>0</td>\n",
       "    </tr>\n",
       "  </tbody>\n",
       "</table>\n",
       "</div>"
      ],
      "text/plain": [
       "         Time  adj_time  arr_period\n",
       "113726      4         4           0\n",
       "780703      5         5           0\n",
       "1602094    11        11           0\n",
       "113727     12        12           0\n",
       "1602095    14        14           0"
      ]
     },
     "execution_count": 9,
     "metadata": {},
     "output_type": "execute_result"
    }
   ],
   "source": [
    "hw1 = 3*60 # seconds\n",
    "\n",
    "df1 = {}\n",
    "\n",
    "for date in weekdays:\n",
    "#     df1[date] = df[date].loc[df[date]['Line_Id'] == 1]['Time']\n",
    "    df1[date] = df[date].loc[df[date]['Line_Id'] == 1]\n",
    "    df1[date] = df1[date].loc[df1[date]['Entry_Or_Exit'] == 1]\n",
    "    df1[date] = df1[date].loc[:,['Time']]\n",
    "    \n",
    "    # timestamp - midnight of day - time of first train of day\n",
    "    df1[date]['Time'] = (df1[date]['Time'] - pd.Timestamp(date) - pd.Timedelta(first[terminals[1][0]])).dt.seconds\n",
    "    \n",
    "    # account for periodicity\n",
    "    df1[date]['adj_time'] = df1[date]['Time'] % hw1\n",
    "    df1[date]['arr_period'] = df1[date]['Time'] // hw1    \n",
    "    \n",
    "df1[weekdays[0]].head()"
   ]
  },
  {
   "cell_type": "markdown",
   "metadata": {},
   "source": [
    "We'll approach this analysis on two fronts: trying the distribution without normalizing per 3-minute interval, and then doing so and comparing the differences.\n",
    "\n",
    "## Distribution fitting without normalization\n",
    "\n",
    "This method should be more accurate to the way we observe passengers arriving, but rush hour passengers may drown out passengers arriving during off-peak times.\n",
    "\n",
    "We take all the arrival times since the first train and use the modulo operator to bring everything into a repeating 3-minute period"
   ]
  },
  {
   "cell_type": "code",
   "execution_count": 10,
   "metadata": {},
   "outputs": [
    {
     "data": {
      "image/png": "[encoded data removed]",
      "text/plain": [
       "<matplotlib.figure.Figure at 0x7f45476fdcf8>"
      ]
     },
     "metadata": {},
     "output_type": "display_data"
    }
   ],
   "source": [
    "ap1 = np.array([])\n",
    "for date in weekdays:\n",
    "    ap1 = np.append(ap1, df1[date]['adj_time'].values)\n",
    "\n",
    "plt.hist(ap1,bins=hw1)\n",
    "plt.xlabel('Seconds')\n",
    "plt.ylabel('Count')\n",
    "plt.title('Line 1 arrival pattern')\n",
    "plt.savefig('figs/l1arrivalpattern.png')\n",
    "plt.show()"
   ]
  },
  {
   "cell_type": "markdown",
   "metadata": {},
   "source": [
    "Looks uniform, but let's see what distribution fits this best."
   ]
  },
  {
   "cell_type": "code",
   "execution_count": 11,
   "metadata": {},
   "outputs": [
    {
     "name": "stderr",
     "output_type": "stream",
     "text": [
      "/home/Carlin/anaconda3/lib/python3.6/site-packages/scipy/stats/_continuous_distns.py:43: RuntimeWarning: floating point number truncated to an integer\n",
      "  return 1.0 - sc.smirnov(n, x)\n",
      "/home/Carlin/anaconda3/lib/python3.6/site-packages/fitter/fitter.py:305: DeprecationWarning: \n",
      ".ix is deprecated. Please use\n",
      ".loc for label based indexing or\n",
      ".iloc for positional indexing\n",
      "\n",
      "See the documentation here:\n",
      "http://pandas.pydata.org/pandas-docs/stable/indexing.html#ix-indexer-is-deprecated\n",
      "  return self.df_errors.ix[names]\n"
     ]
    },
    {
     "data": {
      "text/html": [
       "<div>\n",
       "<style scoped>\n",
       "    .dataframe tbody tr th:only-of-type {\n",
       "        vertical-align: middle;\n",
       "    }\n",
       "\n",
       "    .dataframe tbody tr th {\n",
       "        vertical-align: top;\n",
       "    }\n",
       "\n",
       "    .dataframe thead th {\n",
       "        text-align: right;\n",
       "    }\n",
       "</style>\n",
       "<table border=\"1\" class=\"dataframe\">\n",
       "  <thead>\n",
       "    <tr style=\"text-align: right;\">\n",
       "      <th></th>\n",
       "      <th>sumsquare_error</th>\n",
       "    </tr>\n",
       "  </thead>\n",
       "  <tbody>\n",
       "    <tr>\n",
       "      <th>uniform</th>\n",
       "      <td>0.000016</td>\n",
       "    </tr>\n",
       "    <tr>\n",
       "      <th>gennorm</th>\n",
       "      <td>0.000016</td>\n",
       "    </tr>\n",
       "    <tr>\n",
       "      <th>kappa4</th>\n",
       "      <td>0.000016</td>\n",
       "    </tr>\n",
       "    <tr>\n",
       "      <th>powerlaw</th>\n",
       "      <td>0.000027</td>\n",
       "    </tr>\n",
       "    <tr>\n",
       "      <th>johnsonsb</th>\n",
       "      <td>0.000059</td>\n",
       "    </tr>\n",
       "  </tbody>\n",
       "</table>\n",
       "</div>"
      ],
      "text/plain": [
       "           sumsquare_error\n",
       "uniform           0.000016\n",
       "gennorm           0.000016\n",
       "kappa4            0.000016\n",
       "powerlaw          0.000027\n",
       "johnsonsb         0.000059"
      ]
     },
     "execution_count": 11,
     "metadata": {},
     "output_type": "execute_result"
    },
    {
     "name": "stderr",
     "output_type": "stream",
     "text": [
      "/home/Carlin/anaconda3/lib/python3.6/site-packages/scipy/stats/_distn_infrastructure.py:1615: RuntimeWarning: divide by zero encountered in log\n",
      "  return log(self._pdf(x, *args))\n"
     ]
    },
    {
     "data": {
      "image/png": "[encoded data removed]",
      "text/plain": [
       "<matplotlib.figure.Figure at 0x7f45494867f0>"
      ]
     },
     "metadata": {},
     "output_type": "display_data"
    }
   ],
   "source": [
    "f1 = Fitter(ap1,bins=hw1,verbose=False)\n",
    "warnings.simplefilter('ignore')\n",
    "f1.fit()\n",
    "warnings.simplefilter('default')\n",
    "f1.summary()"
   ]
  },
  {
   "cell_type": "markdown",
   "metadata": {},
   "source": [
    "Yep, it's uniform.\n",
    "\n",
    "## Distribution fitting by period with normalization\n",
    "\n",
    "Now instead of fitting a distribution by each arrival, we'll normalize \n",
    "\n",
    "1. group arrivals by period\n",
    "2. loop through periods, skipping periods with too few arrivals\n",
    "    a. bin arrivals during the period into intervals of 1 second (the resolution of our dataset)\n",
    "    b. divide the resulting counts by the total number of arrivals in the period\n",
    "    c. fold the resulting distribution into into a running dataset \n",
    "3. fit on the resulting array"
   ]
  },
  {
   "cell_type": "code",
   "execution_count": 12,
   "metadata": {},
   "outputs": [
    {
     "name": "stderr",
     "output_type": "stream",
     "text": [
      "/home/Carlin/anaconda3/lib/python3.6/site-packages/scipy/stats/_continuous_distns.py:43: RuntimeWarning: floating point number truncated to an integer\n",
      "  return 1.0 - sc.smirnov(n, x)\n",
      "/home/Carlin/anaconda3/lib/python3.6/site-packages/scipy/stats/_continuous_distns.py:43: RuntimeWarning: floating point number truncated to an integer\n",
      "  return 1.0 - sc.smirnov(n, x)\n",
      "/home/Carlin/anaconda3/lib/python3.6/site-packages/scipy/stats/_continuous_distns.py:43: RuntimeWarning: floating point number truncated to an integer\n",
      "  return 1.0 - sc.smirnov(n, x)\n",
      "/home/Carlin/anaconda3/lib/python3.6/site-packages/scipy/stats/_continuous_distns.py:43: RuntimeWarning: floating point number truncated to an integer\n",
      "  return 1.0 - sc.smirnov(n, x)\n",
      "/home/Carlin/anaconda3/lib/python3.6/site-packages/scipy/stats/_continuous_distns.py:43: RuntimeWarning: floating point number truncated to an integer\n",
      "  return 1.0 - sc.smirnov(n, x)\n",
      "/home/Carlin/anaconda3/lib/python3.6/site-packages/scipy/stats/_continuous_distns.py:43: RuntimeWarning: floating point number truncated to an integer\n",
      "  return 1.0 - sc.smirnov(n, x)\n",
      "/home/Carlin/anaconda3/lib/python3.6/site-packages/scipy/stats/_continuous_distns.py:43: RuntimeWarning: floating point number truncated to an integer\n",
      "  return 1.0 - sc.smirnov(n, x)\n",
      "/home/Carlin/anaconda3/lib/python3.6/site-packages/scipy/stats/_continuous_distns.py:43: RuntimeWarning: floating point number truncated to an integer\n",
      "  return 1.0 - sc.smirnov(n, x)\n",
      "/home/Carlin/anaconda3/lib/python3.6/site-packages/scipy/stats/_distn_infrastructure.py:1615: RuntimeWarning: divide by zero encountered in log\n",
      "  return log(self._pdf(x, *args))\n"
     ]
    },
    {
     "data": {
      "image/png": "[encoded data removed]",
      "text/plain": [
       "<matplotlib.figure.Figure at 0x7f4548c95358>"
      ]
     },
     "metadata": {},
     "output_type": "display_data"
    }
   ],
   "source": [
    "ad1 = np.zeros(hw1)\n",
    "for date in weekdays:\n",
    "    for name, group in df1[date].groupby('arr_period'):\n",
    "        if group.shape[0] > 10:\n",
    "            holder = np.zeros(hw1)\n",
    "            for minute in group['adj_time']:\n",
    "                holder[minute] += 1\n",
    "            holder = holder/np.sum(holder)\n",
    "            ad1 = ad1 + holder\n",
    "\n",
    "plt.bar(np.arange(hw1),ad1,width=1)\n",
    "plt.xlabel('Seconds')\n",
    "plt.ylabel('Adjusted Count')\n",
    "plt.title('Line 1 adjusted arrival pattern')\n",
    "plt.savefig('figs/l1adjarrivalpattern.png')\n",
    "plt.show()"
   ]
  },
  {
   "cell_type": "code",
   "execution_count": 13,
   "metadata": {},
   "outputs": [
    {
     "name": "stderr",
     "output_type": "stream",
     "text": [
      "/home/Carlin/anaconda3/lib/python3.6/site-packages/scipy/stats/_continuous_distns.py:43: RuntimeWarning: floating point number truncated to an integer\n",
      "  return 1.0 - sc.smirnov(n, x)\n",
      "/home/Carlin/anaconda3/lib/python3.6/site-packages/scipy/stats/_continuous_distns.py:43: RuntimeWarning: floating point number truncated to an integer\n",
      "  return 1.0 - sc.smirnov(n, x)\n",
      "/home/Carlin/anaconda3/lib/python3.6/site-packages/scipy/stats/_continuous_distns.py:43: RuntimeWarning: floating point number truncated to an integer\n",
      "  return 1.0 - sc.smirnov(n, x)\n",
      "/home/Carlin/anaconda3/lib/python3.6/site-packages/fitter/fitter.py:305: DeprecationWarning: \n",
      ".ix is deprecated. Please use\n",
      ".loc for label based indexing or\n",
      ".iloc for positional indexing\n",
      "\n",
      "See the documentation here:\n",
      "http://pandas.pydata.org/pandas-docs/stable/indexing.html#ix-indexer-is-deprecated\n",
      "  return self.df_errors.ix[names]\n"
     ]
    },
    {
     "data": {
      "text/html": [
       "<div>\n",
       "<style scoped>\n",
       "    .dataframe tbody tr th:only-of-type {\n",
       "        vertical-align: middle;\n",
       "    }\n",
       "\n",
       "    .dataframe tbody tr th {\n",
       "        vertical-align: top;\n",
       "    }\n",
       "\n",
       "    .dataframe thead th {\n",
       "        text-align: right;\n",
       "    }\n",
       "</style>\n",
       "<table border=\"1\" class=\"dataframe\">\n",
       "  <thead>\n",
       "    <tr style=\"text-align: right;\">\n",
       "      <th></th>\n",
       "      <th>sumsquare_error</th>\n",
       "    </tr>\n",
       "  </thead>\n",
       "  <tbody>\n",
       "    <tr>\n",
       "      <th>uniform</th>\n",
       "      <td>0.000042</td>\n",
       "    </tr>\n",
       "    <tr>\n",
       "      <th>gennorm</th>\n",
       "      <td>0.000042</td>\n",
       "    </tr>\n",
       "    <tr>\n",
       "      <th>vonmises_line</th>\n",
       "      <td>0.000042</td>\n",
       "    </tr>\n",
       "    <tr>\n",
       "      <th>kappa4</th>\n",
       "      <td>0.000042</td>\n",
       "    </tr>\n",
       "    <tr>\n",
       "      <th>powerlaw</th>\n",
       "      <td>0.000042</td>\n",
       "    </tr>\n",
       "  </tbody>\n",
       "</table>\n",
       "</div>"
      ],
      "text/plain": [
       "               sumsquare_error\n",
       "uniform               0.000042\n",
       "gennorm               0.000042\n",
       "vonmises_line         0.000042\n",
       "kappa4                0.000042\n",
       "powerlaw              0.000042"
      ]
     },
     "execution_count": 13,
     "metadata": {},
     "output_type": "execute_result"
    },
    {
     "name": "stderr",
     "output_type": "stream",
     "text": [
      "/home/Carlin/anaconda3/lib/python3.6/site-packages/scipy/stats/_continuous_distns.py:5408: RuntimeWarning: divide by zero encountered in power\n",
      "  Px = Fx**(lam-1.0) + (np.asarray(1-Fx))**(lam-1.0)\n",
      "/home/Carlin/anaconda3/lib/python3.6/site-packages/scipy/stats/_distn_infrastructure.py:1615: RuntimeWarning: divide by zero encountered in log\n",
      "  return log(self._pdf(x, *args))\n"
     ]
    },
    {
     "data": {
      "image/png": "[encoded data removed]",
      "text/plain": [
       "<matplotlib.figure.Figure at 0x7f4549486b38>"
      ]
     },
     "metadata": {},
     "output_type": "display_data"
    }
   ],
   "source": [
    "ad1 = np.repeat(np.arange(hw1),(np.rint(ad1*100)).astype(int))\n",
    "f2 = Fitter(ad1,bins=hw1,verbose=False)\n",
    "warnings.simplefilter('ignore')\n",
    "f2.fit()\n",
    "warnings.simplefilter('default')\n",
    "f2.summary()"
   ]
  }
 ],
 "metadata": {
  "kernelspec": {
   "display_name": "Python 3",
   "language": "python",
   "name": "python3"
  },
  "language_info": {
   "codemirror_mode": {
    "name": "ipython",
    "version": 3
   },
   "file_extension": ".py",
   "mimetype": "text/x-python",
   "name": "python",
   "nbconvert_exporter": "python",
   "pygments_lexer": "ipython3",
   "version": "3.6.4"
  }
 },
 "nbformat": 4,
 "nbformat_minor": 2
}
