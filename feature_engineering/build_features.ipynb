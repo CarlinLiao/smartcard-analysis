{
 "cells": [
  {
   "cell_type": "code",
   "execution_count": 5,
   "metadata": {},
   "outputs": [],
   "source": [
    "import pandas as pd\n",
    "import numpy as np \n",
    "import sys"
   ]
  },
  {
   "cell_type": "markdown",
   "metadata": {},
   "source": [
    "This module is for \n",
    "\n",
    "1. extracting the top two most frequently used OD's before and after new line\n",
    "2. extracting the top two most frequent departure/arrival times before and after new line\n",
    "\n",
    "by using Tuesday to Thursday data before and after new line\n",
    "\n",
    "Dates used for data before new line: 2015/3/3-5\n",
    "\n",
    "Dates used for data after new line: 2015/4/28-30\n",
    "\n",
    "=============================================================================\n",
    "\n",
    "New line was opened on April 1st of 2015\n",
    "\n",
    "### read in data"
   ]
  },
  {
   "cell_type": "code",
   "execution_count": 17,
   "metadata": {},
   "outputs": [
    {
     "data": {
      "text/html": [
       "<div>\n",
       "<style scoped>\n",
       "    .dataframe tbody tr th:only-of-type {\n",
       "        vertical-align: middle;\n",
       "    }\n",
       "\n",
       "    .dataframe tbody tr th {\n",
       "        vertical-align: top;\n",
       "    }\n",
       "\n",
       "    .dataframe thead th {\n",
       "        text-align: right;\n",
       "    }\n",
       "</style>\n",
       "<table border=\"1\" class=\"dataframe\">\n",
       "  <thead>\n",
       "    <tr style=\"text-align: right;\">\n",
       "      <th></th>\n",
       "      <th>Card_Id</th>\n",
       "      <th>Fare</th>\n",
       "      <th>Time</th>\n",
       "      <th>Entry_Or_Exit</th>\n",
       "      <th>Line_Id</th>\n",
       "      <th>StationId</th>\n",
       "    </tr>\n",
       "  </thead>\n",
       "  <tbody>\n",
       "    <tr>\n",
       "      <th>1403858</th>\n",
       "      <td>996260140165</td>\n",
       "      <td>0.0</td>\n",
       "      <td>2015-03-04 01:43:22</td>\n",
       "      <td>1</td>\n",
       "      <td>2</td>\n",
       "      <td>27</td>\n",
       "    </tr>\n",
       "    <tr>\n",
       "      <th>547408</th>\n",
       "      <td>996260138943</td>\n",
       "      <td>0.0</td>\n",
       "      <td>2015-03-04 02:05:19</td>\n",
       "      <td>1</td>\n",
       "      <td>2</td>\n",
       "      <td>25</td>\n",
       "    </tr>\n",
       "    <tr>\n",
       "      <th>711162</th>\n",
       "      <td>996260138943</td>\n",
       "      <td>0.0</td>\n",
       "      <td>2015-03-04 02:05:35</td>\n",
       "      <td>2</td>\n",
       "      <td>2</td>\n",
       "      <td>25</td>\n",
       "    </tr>\n",
       "    <tr>\n",
       "      <th>248347</th>\n",
       "      <td>996260140434</td>\n",
       "      <td>0.0</td>\n",
       "      <td>2015-03-04 02:12:17</td>\n",
       "      <td>2</td>\n",
       "      <td>3</td>\n",
       "      <td>46</td>\n",
       "    </tr>\n",
       "    <tr>\n",
       "      <th>1594810</th>\n",
       "      <td>996260140979</td>\n",
       "      <td>0.0</td>\n",
       "      <td>2015-03-04 02:23:19</td>\n",
       "      <td>2</td>\n",
       "      <td>2</td>\n",
       "      <td>29</td>\n",
       "    </tr>\n",
       "  </tbody>\n",
       "</table>\n",
       "</div>"
      ],
      "text/plain": [
       "              Card_Id  Fare                Time  Entry_Or_Exit  Line_Id  \\\n",
       "1403858  996260140165   0.0 2015-03-04 01:43:22              1        2   \n",
       "547408   996260138943   0.0 2015-03-04 02:05:19              1        2   \n",
       "711162   996260138943   0.0 2015-03-04 02:05:35              2        2   \n",
       "248347   996260140434   0.0 2015-03-04 02:12:17              2        3   \n",
       "1594810  996260140979   0.0 2015-03-04 02:23:19              2        2   \n",
       "\n",
       "         StationId  \n",
       "1403858         27  \n",
       "547408          25  \n",
       "711162          25  \n",
       "248347          46  \n",
       "1594810         29  "
      ]
     },
     "execution_count": 17,
     "metadata": {},
     "output_type": "execute_result"
    }
   ],
   "source": [
    "# before = ['2015030{}'.format(day) for day in range(3,6)]\n",
    "# after = ['201504{}'.format(day) for day in range(28,31)]\n",
    "before = ['20150304']\n",
    "after = ['20150429']\n",
    "\n",
    "header = pd.read_csv(\"../nanjing-data/header.csv\")\n",
    "\n",
    "df = {}\n",
    "for date in before + after:\n",
    "    \n",
    "    # attach header\n",
    "    df[date] = pd.read_csv('../nanjing-data/{}.csv'.format(date), header=None)\n",
    "    df[date].columns = header.columns\n",
    "\n",
    "    # drop unnecessary columns\n",
    "    df[date].drop(labels=['Card_Id_Long', 'Card_Type', 'Device_Id'], axis=1, inplace=True)\n",
    "\n",
    "    # convert datetime\n",
    "    df[date]['Time'] = pd.to_datetime(df[date]['Time'])\n",
    "    \n",
    "    df[date].sort_values('Time', inplace=True)\n",
    "    \n",
    "df[before[0]].head()"
   ]
  },
  {
   "cell_type": "code",
   "execution_count": 24,
   "metadata": {},
   "outputs": [
    {
     "name": "stdout",
     "output_type": "stream",
     "text": [
      "476095\n",
      "580141\n"
     ]
    },
    {
     "data": {
      "text/plain": [
       "(208636,)"
      ]
     },
     "execution_count": 24,
     "metadata": {},
     "output_type": "execute_result"
    }
   ],
   "source": [
    "# consider only IDs present in both before and after days\n",
    "\n",
    "ids_before = set()\n",
    "ids_after = set()\n",
    "for i in range(len(before)):\n",
    "    ids_before = ids_before.union(set(df[before[i]]['Card_Id'].unique()))\n",
    "    print(len(ids_before))\n",
    "    ids_after = ids_after.union(set(df[after[i]]['Card_Id'].unique()))\n",
    "    print(len(ids_after))\n",
    "ids = np.array(list(ids_before.intersection(ids_after)))\n",
    "ids.shape"
   ]
  },
  {
   "cell_type": "code",
   "execution_count": 25,
   "metadata": {},
   "outputs": [
    {
     "data": {
      "text/plain": [
       "10000"
      ]
     },
     "execution_count": 25,
     "metadata": {},
     "output_type": "execute_result"
    }
   ],
   "source": [
    "# pick out a sample of IDs\n",
    "n = 10_000\n",
    "sample_inds = np.random.choice(len(ids), size=n, replace=False)\n",
    "ids = ids[sample_inds]\n",
    "len(ids)"
   ]
  },
  {
   "cell_type": "code",
   "execution_count": 26,
   "metadata": {},
   "outputs": [
    {
     "name": "stdout",
     "output_type": "stream",
     "text": [
      "(1660000, 6)\n",
      "(36876, 6)\n"
     ]
    }
   ],
   "source": [
    "# drop rows of card ids not in before or after\n",
    "print(df[before[0]].shape)\n",
    "for date in before + after:\n",
    "    df[date] = df[date].loc[df[date]['Card_Id'].isin(ids),:]\n",
    "print(df[before[0]].shape)"
   ]
  },
  {
   "cell_type": "code",
   "execution_count": 37,
   "metadata": {},
   "outputs": [
    {
     "data": {
      "text/html": [
       "<div>\n",
       "<style scoped>\n",
       "    .dataframe tbody tr th:only-of-type {\n",
       "        vertical-align: middle;\n",
       "    }\n",
       "\n",
       "    .dataframe tbody tr th {\n",
       "        vertical-align: top;\n",
       "    }\n",
       "\n",
       "    .dataframe thead th {\n",
       "        text-align: right;\n",
       "    }\n",
       "</style>\n",
       "<table border=\"1\" class=\"dataframe\">\n",
       "  <thead>\n",
       "    <tr style=\"text-align: right;\">\n",
       "      <th></th>\n",
       "      <th>fare</th>\n",
       "      <th>id</th>\n",
       "      <th>station1</th>\n",
       "      <th>station2</th>\n",
       "    </tr>\n",
       "  </thead>\n",
       "  <tbody>\n",
       "    <tr>\n",
       "      <th>0</th>\n",
       "      <td>0.0</td>\n",
       "      <td>9.962641e+11</td>\n",
       "      <td>10.0</td>\n",
       "      <td>10.0</td>\n",
       "    </tr>\n",
       "    <tr>\n",
       "      <th>1</th>\n",
       "      <td>0.0</td>\n",
       "      <td>9.962601e+11</td>\n",
       "      <td>31.0</td>\n",
       "      <td>31.0</td>\n",
       "    </tr>\n",
       "    <tr>\n",
       "      <th>2</th>\n",
       "      <td>0.0</td>\n",
       "      <td>9.962641e+11</td>\n",
       "      <td>42.0</td>\n",
       "      <td>42.0</td>\n",
       "    </tr>\n",
       "    <tr>\n",
       "      <th>3</th>\n",
       "      <td>0.0</td>\n",
       "      <td>9.960610e+11</td>\n",
       "      <td>10.0</td>\n",
       "      <td>12.0</td>\n",
       "    </tr>\n",
       "    <tr>\n",
       "      <th>4</th>\n",
       "      <td>0.0</td>\n",
       "      <td>9.971667e+11</td>\n",
       "      <td>13.0</td>\n",
       "      <td>14.0</td>\n",
       "    </tr>\n",
       "  </tbody>\n",
       "</table>\n",
       "</div>"
      ],
      "text/plain": [
       "   fare            id  station1  station2\n",
       "0   0.0  9.962641e+11      10.0      10.0\n",
       "1   0.0  9.962601e+11      31.0      31.0\n",
       "2   0.0  9.962641e+11      42.0      42.0\n",
       "3   0.0  9.960610e+11      10.0      12.0\n",
       "4   0.0  9.971667e+11      13.0      14.0"
      ]
     },
     "execution_count": 37,
     "metadata": {},
     "output_type": "execute_result"
    }
   ],
   "source": [
    "# convert rows of entry and exit into OD pairs with fare\n",
    "\n",
    "od = {}\n",
    "for date in before + after:\n",
    "    od[date] = pd.DataFrame({'id':[], 'station1':[], 'station2':[], 'fare':[]})\n",
    "    temp = {}\n",
    "    for i,row in df[date].iterrows(): # for row in each day's trips\n",
    "        if row['Entry_Or_Exit'] == 1: # this is an entry, open a trip\n",
    "            temp[row['Card_Id']] = row['StationId']\n",
    "        elif row['Entry_Or_Exit'] == 2: # implicitly drop bad data (not 1 or 2)\n",
    "            if row['Card_Id'] in temp:\n",
    "                newrow = {}\n",
    "                newrow['id'] = row['Card_Id']\n",
    "                newrow['station1'] = temp[row['Card_Id']]\n",
    "                newrow['station2'] = row['StationId']\n",
    "                newrow['fare'] = row['Fare']\n",
    "                od[date].loc[od[date].shape[0]] = newrow\n",
    "                del(temp[row['Card_Id']])\n",
    "od[before[0]].head()"
   ]
  },
  {
   "cell_type": "code",
   "execution_count": 48,
   "metadata": {},
   "outputs": [],
   "source": [
    "# export result\n",
    "for date in before:\n",
    "    od[date].to_csv('ods_b4_{}.csv'.format(date), index=False)\n",
    "for date in after:\n",
    "    od[date].to_csv('ods_af_{}.csv'.format(date), index=False)"
   ]
  },
  {
   "cell_type": "code",
   "execution_count": 50,
   "metadata": {},
   "outputs": [
    {
     "data": {
      "text/html": [
       "<div>\n",
       "<style scoped>\n",
       "    .dataframe tbody tr th:only-of-type {\n",
       "        vertical-align: middle;\n",
       "    }\n",
       "\n",
       "    .dataframe tbody tr th {\n",
       "        vertical-align: top;\n",
       "    }\n",
       "\n",
       "    .dataframe thead th {\n",
       "        text-align: right;\n",
       "    }\n",
       "</style>\n",
       "<table border=\"1\" class=\"dataframe\">\n",
       "  <thead>\n",
       "    <tr style=\"text-align: right;\">\n",
       "      <th></th>\n",
       "      <th>Card_Id</th>\n",
       "      <th>switched</th>\n",
       "    </tr>\n",
       "  </thead>\n",
       "  <tbody>\n",
       "    <tr>\n",
       "      <th>0</th>\n",
       "      <td>993171075763</td>\n",
       "      <td>0.0</td>\n",
       "    </tr>\n",
       "    <tr>\n",
       "      <th>1</th>\n",
       "      <td>997168924030</td>\n",
       "      <td>0.0</td>\n",
       "    </tr>\n",
       "    <tr>\n",
       "      <th>2</th>\n",
       "      <td>990163953659</td>\n",
       "      <td>0.0</td>\n",
       "    </tr>\n",
       "    <tr>\n",
       "      <th>3</th>\n",
       "      <td>976674428973</td>\n",
       "      <td>0.0</td>\n",
       "    </tr>\n",
       "    <tr>\n",
       "      <th>4</th>\n",
       "      <td>993171087015</td>\n",
       "      <td>0.0</td>\n",
       "    </tr>\n",
       "  </tbody>\n",
       "</table>\n",
       "</div>"
      ],
      "text/plain": [
       "        Card_Id  switched\n",
       "0  993171075763       0.0\n",
       "1  997168924030       0.0\n",
       "2  990163953659       0.0\n",
       "3  976674428973       0.0\n",
       "4  993171087015       0.0"
      ]
     },
     "execution_count": 50,
     "metadata": {},
     "output_type": "execute_result"
    }
   ],
   "source": [
    "# determine which IDs switched lines\n",
    "l3ids = {73, # new stations on line 3\n",
    " 89,\n",
    " 90,\n",
    " 91,\n",
    " 92,\n",
    " 93,\n",
    " 94,\n",
    " 95,\n",
    " 96,\n",
    " 97,\n",
    " 98,\n",
    " 99,\n",
    " 100,\n",
    " 101,\n",
    " 102,\n",
    " 103,\n",
    " 104,\n",
    " 105,\n",
    " 106,\n",
    " 107,\n",
    " 108,\n",
    " 109,\n",
    " 110,\n",
    " 111,\n",
    " 112,\n",
    " 113}\n",
    "\n",
    "# switch_or_not = np.zeros((n,2))\n",
    "# switch_or_not[:,0] = ids\n",
    "# for i,uid in enumerate(ids):\n",
    "#     # figure out if uid has traveled on line 3 afterward\n",
    "#     for date in after:\n",
    "#         select = od[date].loc[od[date]['id'] == uid,:]\n",
    "#         if (select['station1'].isin(l3ids).any()) or (select['station2'].isin(l3ids).any()):\n",
    "#             switch_or_not[i,1] = 1\n",
    "# switch_or_not[0:10,:]\n",
    "\n",
    "switch_or_not = pd.DataFrame({'Card_Id':ids, 'switched':np.zeros(n)})\n",
    "for i,uid in enumerate(ids):\n",
    "    # figure out if uid has traveled on line 3 afterward\n",
    "    for date in after:\n",
    "        select = od[date].loc[od[date]['id'] == uid,:]\n",
    "        if (select['station1'].isin(l3ids).any()) or (select['station2'].isin(l3ids).any()):\n",
    "            switch_or_not.iloc[i,1] = 1\n",
    "switch_or_not.head()"
   ]
  },
  {
   "cell_type": "code",
   "execution_count": 51,
   "metadata": {},
   "outputs": [],
   "source": [
    "# export switching\n",
    "# np.savetxt('switch_or_not.csv',switch_or_not,delimiter=',')\n",
    "switch_or_not.to_csv('switch_or_not.csv', index=False)"
   ]
  }
 ],
 "metadata": {
  "kernelspec": {
   "display_name": "Python 3",
   "language": "python",
   "name": "python3"
  },
  "language_info": {
   "codemirror_mode": {
    "name": "ipython",
    "version": 3
   },
   "file_extension": ".py",
   "mimetype": "text/x-python",
   "name": "python",
   "nbconvert_exporter": "python",
   "pygments_lexer": "ipython3",
   "version": "3.6.3"
  }
 },
 "nbformat": 4,
 "nbformat_minor": 2
}
