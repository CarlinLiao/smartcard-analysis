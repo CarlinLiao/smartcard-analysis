{
 "cells": [
  {
   "cell_type": "code",
   "execution_count": 1,
   "metadata": {},
   "outputs": [],
   "source": [
    "import networkx as nx\n",
    "import matplotlib.pyplot as plt\n",
    "import pandas as pd"
   ]
  },
  {
   "cell_type": "code",
   "execution_count": 2,
   "metadata": {},
   "outputs": [
    {
     "data": {
      "text/html": [
       "<div>\n",
       "<style scoped>\n",
       "    .dataframe tbody tr th:only-of-type {\n",
       "        vertical-align: middle;\n",
       "    }\n",
       "\n",
       "    .dataframe tbody tr th {\n",
       "        vertical-align: top;\n",
       "    }\n",
       "\n",
       "    .dataframe thead th {\n",
       "        text-align: right;\n",
       "    }\n",
       "</style>\n",
       "<table border=\"1\" class=\"dataframe\">\n",
       "  <thead>\n",
       "    <tr style=\"text-align: right;\">\n",
       "      <th></th>\n",
       "      <th>STATIONID</th>\n",
       "      <th>STATIONCNNAME</th>\n",
       "      <th>STATIONENABBRNAME</th>\n",
       "      <th>STATIONTYPE</th>\n",
       "      <th>VIRTUALFLAG</th>\n",
       "      <th>ENABLEFLAG</th>\n",
       "      <th>ROWFLAG</th>\n",
       "      <th>CREATIONTIME</th>\n",
       "      <th>STATIONCNABBRNAME</th>\n",
       "      <th>lng</th>\n",
       "      <th>lat</th>\n",
       "      <th>lng_lat</th>\n",
       "    </tr>\n",
       "  </thead>\n",
       "  <tbody>\n",
       "    <tr>\n",
       "      <th>0</th>\n",
       "      <td>1</td>\n",
       "      <td>奥体中心</td>\n",
       "      <td>OLYMPIC STADIUM</td>\n",
       "      <td>0</td>\n",
       "      <td>0</td>\n",
       "      <td>1</td>\n",
       "      <td>1</td>\n",
       "      <td>41834.41839</td>\n",
       "      <td>AT</td>\n",
       "      <td>118.724648</td>\n",
       "      <td>32.014641</td>\n",
       "      <td>118.724648,32.014641</td>\n",
       "    </tr>\n",
       "    <tr>\n",
       "      <th>1</th>\n",
       "      <td>2</td>\n",
       "      <td>元通</td>\n",
       "      <td>YUANTONG</td>\n",
       "      <td>1</td>\n",
       "      <td>0</td>\n",
       "      <td>1</td>\n",
       "      <td>1</td>\n",
       "      <td>41834.42017</td>\n",
       "      <td>YT</td>\n",
       "      <td>118.728019</td>\n",
       "      <td>32.001636</td>\n",
       "      <td>118.728019,32.001636</td>\n",
       "    </tr>\n",
       "    <tr>\n",
       "      <th>2</th>\n",
       "      <td>3</td>\n",
       "      <td>中胜</td>\n",
       "      <td>ZHONGSHENG</td>\n",
       "      <td>0</td>\n",
       "      <td>0</td>\n",
       "      <td>1</td>\n",
       "      <td>1</td>\n",
       "      <td>41834.42063</td>\n",
       "      <td>ZS</td>\n",
       "      <td>118.740078</td>\n",
       "      <td>31.993863</td>\n",
       "      <td>118.740078,31.993863</td>\n",
       "    </tr>\n",
       "    <tr>\n",
       "      <th>3</th>\n",
       "      <td>4</td>\n",
       "      <td>小行</td>\n",
       "      <td>XIAOHANG</td>\n",
       "      <td>0</td>\n",
       "      <td>0</td>\n",
       "      <td>1</td>\n",
       "      <td>1</td>\n",
       "      <td>41834.42095</td>\n",
       "      <td>XH</td>\n",
       "      <td>118.750965</td>\n",
       "      <td>31.988061</td>\n",
       "      <td>118.750965,31.988061</td>\n",
       "    </tr>\n",
       "    <tr>\n",
       "      <th>4</th>\n",
       "      <td>5</td>\n",
       "      <td>安德门</td>\n",
       "      <td>ANDEMEN</td>\n",
       "      <td>1</td>\n",
       "      <td>0</td>\n",
       "      <td>1</td>\n",
       "      <td>1</td>\n",
       "      <td>41737.57271</td>\n",
       "      <td>ADM</td>\n",
       "      <td>118.768408</td>\n",
       "      <td>31.997111</td>\n",
       "      <td>118.768408,31.997111</td>\n",
       "    </tr>\n",
       "  </tbody>\n",
       "</table>\n",
       "</div>"
      ],
      "text/plain": [
       "   STATIONID STATIONCNNAME STATIONENABBRNAME  STATIONTYPE  VIRTUALFLAG  \\\n",
       "0          1          奥体中心   OLYMPIC STADIUM            0            0   \n",
       "1          2            元通          YUANTONG            1            0   \n",
       "2          3            中胜        ZHONGSHENG            0            0   \n",
       "3          4            小行          XIAOHANG            0            0   \n",
       "4          5           安德门           ANDEMEN            1            0   \n",
       "\n",
       "   ENABLEFLAG  ROWFLAG  CREATIONTIME STATIONCNABBRNAME         lng        lat  \\\n",
       "0           1        1   41834.41839                AT  118.724648  32.014641   \n",
       "1           1        1   41834.42017                YT  118.728019  32.001636   \n",
       "2           1        1   41834.42063                ZS  118.740078  31.993863   \n",
       "3           1        1   41834.42095                XH  118.750965  31.988061   \n",
       "4           1        1   41737.57271               ADM  118.768408  31.997111   \n",
       "\n",
       "                lng_lat  \n",
       "0  118.724648,32.014641  \n",
       "1  118.728019,32.001636  \n",
       "2  118.740078,31.993863  \n",
       "3  118.750965,31.988061  \n",
       "4  118.768408,31.997111  "
      ]
     },
     "execution_count": 2,
     "metadata": {},
     "output_type": "execute_result"
    }
   ],
   "source": [
    "df = pd.read_csv('data/Station_lat_lng.csv', encoding='gb2312')\n",
    "df.head()"
   ]
  },
  {
   "cell_type": "code",
   "execution_count": 3,
   "metadata": {},
   "outputs": [],
   "source": [
    "G = nx.Graph()"
   ]
  },
  {
   "cell_type": "code",
   "execution_count": 4,
   "metadata": {},
   "outputs": [
    {
     "data": {
      "image/png": "[encoded data removed]",
      "text/plain": [
       "<matplotlib.figure.Figure at 0x7f46c4f83be0>"
      ]
     },
     "metadata": {},
     "output_type": "display_data"
    }
   ],
   "source": [
    "for i, row in df.iterrows():\n",
    "    G.add_node(row['STATIONID'], pos=(row['lng'], row['lat']))\n",
    "nx.draw(G, pos=nx.get_node_attributes(G,'pos'), node_size=10, node_color='k')\n",
    "plt.show()"
   ]
  },
  {
   "cell_type": "code",
   "execution_count": 9,
   "metadata": {},
   "outputs": [
    {
     "data": {
      "image/png": "[encoded data removed]",
      "text/plain": [
       "<matplotlib.figure.Figure at 0x7f46c1e5aba8>"
      ]
     },
     "metadata": {},
     "output_type": "display_data"
    }
   ],
   "source": [
    "nid = df['STATIONID']\n",
    "nid.index = df['STATIONENABBRNAME']\n",
    "nid = nid.to_dict()\n",
    "\n",
    "# note: more info available\n",
    "line1 = ['Maigaoqiao','Hongshan Zoo','Nanjing Railway Station','Xinmofanmalu','Xuanwumen','Gulou','Zhujianglu','Xinjiekou','Zhangfuyuan','Sanshanjie','Zhonghuamen','Andemen','Tianlongsi','Ruanjiandadao','Huashenmiao','Nanjing South Railway Station','Shuanglongdadao','Hedingqiao','Shengtailu','Baijiahu','Xiaolongwan','Zhushanlu','Tianyindadao','Longmiandadao','NMU JIETT','NJCI','CPU']\n",
    "# line has early terminus before Shengtailu\n",
    "\n",
    "line2 = ['Youfangqiao','Yurundajie','Yuantong','Olympic Stadium East','Xinglongdajie','Jiqingmendajie','Yunjinlu','Mochouhu','Hanzhongmen','Shanghailu','Xinjiekou','Daxinggong','Xi\\'anmen','Minggugong','Muxuyuan','Xiamafang','Xiaolingwei','Zhonglingjie','Maqun','Jinmalu','Xianhemen','Xuezelu','Xianlinzhongxin','Yangshangongyuan','NJU Xianlin Campus','Jingtianlu']\n",
    "line3 = ['Linchang','Xinghuolu','SEU Chengxian College','Taifenglu','Tianruncheng','Liuzhoudonglu','Shangyuanmen','Wutangguangchang','Xiaoshi','Nanjing Railway Station','NFU Xinzhuang','Jimingsi','Fuqiao','Daxinggong','Changfujie','Fuzimiao','Wudingmen','Yuhuamen','Kazimen','Daminglu','Mingfaguangchang','Nanjing South Railway Station','Hongyundadao','Shengtaixilu','Tianyuanxilu','Jiulonghu','Chengxindadao','SEU Jiulonghu Campus','Mozhoudonglu']\n",
    "# line has early terminus before Tianyuanxilu\n",
    "\n",
    "line4 = ['Longjiang','NUA JSSNU Caochangmen','Yunnanlu','Gulou','Jimingsi','Jiuhuashan','Gangzicun','Jiangwangmiao','Wangjiawan','Jubaoshan','Suning HQ Xuzhuang','Jinmalu','Huitonglu','Lingshan','Dongliu','Mengbei','Xiganghuashu','Xianlinhu']\n",
    "line10 = ['Andemen','Xiaohang','Zhongsheng','Yuantong','Olympic Stadium','Mengdudajie','Lvboyuan','Jiangxinzhou','Linjiang','Pukouwanhuicheng','Nanjing Tech','Longhualu','Wendelu','Yushanlu']\n",
    "lineS1 = ['Nanjing South Railway Station','Cuipingshan','HHU Fochengxilu','Jiyindadao','Zhengfangzhonglu','Xiangyulubei','Xiangyulunan','Lukou International Airport']\n",
    "lineS8 = ['Taishanxincun','Taifenglu','Gaoxin Development Zone','NUIST','Xiejiadian','Dachang','Getang','Changlu','Huagongyuan','Luhe Development Zone','Longchi','Xiongzhou','Fenghuangshan Park','Fangzhouguangchang','Shenqiao','Babaiqiao','Jinniuhu']\n",
    "# line has early terminus at Shenqiao\n",
    "\n",
    "lines = [line1, line2, line3, line4, line10, lineS1, lineS8]\n",
    "line_color = ['blue', 'red', 'green', 'purple', 'brown', 'teal', 'orange']\n",
    "\n",
    "for k, line in enumerate(lines):\n",
    "    for i in range(len(line)-1): # looking at sequential pairs so stop early\n",
    "        a = nid[str.upper(line[i])]\n",
    "        b = nid[str.upper(line[i+1])]\n",
    "        G.add_edge(a, b)\n",
    "        G[a][b]['color'] = line_color[k]\n",
    "        \n",
    "nx.draw(G, pos=nx.get_node_attributes(G,'pos'), node_size=10, node_color='k', edge_color=[G[u][v]['color'] for u,v in G.edges()])\n",
    "plt.show()"
   ]
  }
 ],
 "metadata": {
  "kernelspec": {
   "display_name": "Python 3",
   "language": "python",
   "name": "python3"
  },
  "language_info": {
   "codemirror_mode": {
    "name": "ipython",
    "version": 3
   },
   "file_extension": ".py",
   "mimetype": "text/x-python",
   "name": "python",
   "nbconvert_exporter": "python",
   "pygments_lexer": "ipython3",
   "version": "3.6.2"
  }
 },
 "nbformat": 4,
 "nbformat_minor": 2
}
