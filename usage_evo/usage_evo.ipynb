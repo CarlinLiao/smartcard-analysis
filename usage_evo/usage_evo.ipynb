{
 "cells": [
  {
   "cell_type": "code",
   "execution_count": 1,
   "metadata": {},
   "outputs": [],
   "source": [
    "import numpy as np\n",
    "import matplotlib.pyplot as plt\n",
    "import pandas as pd"
   ]
  },
  {
   "cell_type": "markdown",
   "metadata": {},
   "source": [
    "# New Line Usage Evolution\n",
    "\n",
    "In this notebook we'll take a look at how the number of riders changes on Line 3 as time passes after its opening. First load in data from the week right before opening, the week after opening, and for a month after opening (the latest that we have)."
   ]
  },
  {
   "cell_type": "code",
   "execution_count": 6,
   "metadata": {},
   "outputs": [],
   "source": [
    "week_before = ['201503{}'.format(d) for d in range(25,32)]\n",
    "week_after = ['2015040{}'.format(d) for d in range(1,8)]\n",
    "month_after = ['201504{}'.format(d) for d in range(24,31)]\n",
    "\n",
    "header = pd.read_csv('../nanjing-data/header.csv')"
   ]
  },
  {
   "cell_type": "code",
   "execution_count": 13,
   "metadata": {},
   "outputs": [],
   "source": [
    "def reader(week):\n",
    "    df = {}\n",
    "    \n",
    "    for date in week:\n",
    "    \n",
    "        # attach header\n",
    "        df[date] = pd.read_csv('../nanjing-data/{}.csv'.format(date), header=None)\n",
    "        df[date].columns = header.columns\n",
    "        \n",
    "        # drop all but station entrances\n",
    "        df[date] = df[date].loc[df[date]['Entry_Or_Exit'] == 1,:]\n",
    "\n",
    "        # drop unnecessary columns\n",
    "        df[date].drop(labels=['Card_Id', 'Card_Id_Long', 'Card_Type', 'Fare', 'Device_Id', 'Entry_Or_Exit'], axis=1, inplace=True) #StationId too possibly\n",
    "\n",
    "        # convert datetime\n",
    "        df[date]['Time'] = pd.to_datetime(df[date]['Time'])\n",
    "    \n",
    "    return df"
   ]
  },
  {
   "cell_type": "code",
   "execution_count": 14,
   "metadata": {},
   "outputs": [
    {
     "data": {
      "text/html": [
       "<div>\n",
       "<style scoped>\n",
       "    .dataframe tbody tr th:only-of-type {\n",
       "        vertical-align: middle;\n",
       "    }\n",
       "\n",
       "    .dataframe tbody tr th {\n",
       "        vertical-align: top;\n",
       "    }\n",
       "\n",
       "    .dataframe thead th {\n",
       "        text-align: right;\n",
       "    }\n",
       "</style>\n",
       "<table border=\"1\" class=\"dataframe\">\n",
       "  <thead>\n",
       "    <tr style=\"text-align: right;\">\n",
       "      <th></th>\n",
       "      <th>Time</th>\n",
       "      <th>Line_Id</th>\n",
       "      <th>StationId</th>\n",
       "    </tr>\n",
       "  </thead>\n",
       "  <tbody>\n",
       "    <tr>\n",
       "      <th>0</th>\n",
       "      <td>2015-03-25 06:10:09</td>\n",
       "      <td>4</td>\n",
       "      <td>1</td>\n",
       "    </tr>\n",
       "    <tr>\n",
       "      <th>1</th>\n",
       "      <td>2015-03-25 07:00:17</td>\n",
       "      <td>4</td>\n",
       "      <td>1</td>\n",
       "    </tr>\n",
       "    <tr>\n",
       "      <th>2</th>\n",
       "      <td>2015-03-25 07:08:18</td>\n",
       "      <td>4</td>\n",
       "      <td>1</td>\n",
       "    </tr>\n",
       "    <tr>\n",
       "      <th>3</th>\n",
       "      <td>2015-03-25 07:11:52</td>\n",
       "      <td>4</td>\n",
       "      <td>1</td>\n",
       "    </tr>\n",
       "    <tr>\n",
       "      <th>4</th>\n",
       "      <td>2015-03-25 06:34:48</td>\n",
       "      <td>4</td>\n",
       "      <td>1</td>\n",
       "    </tr>\n",
       "  </tbody>\n",
       "</table>\n",
       "</div>"
      ],
      "text/plain": [
       "                 Time  Line_Id  StationId\n",
       "0 2015-03-25 06:10:09        4          1\n",
       "1 2015-03-25 07:00:17        4          1\n",
       "2 2015-03-25 07:08:18        4          1\n",
       "3 2015-03-25 07:11:52        4          1\n",
       "4 2015-03-25 06:34:48        4          1"
      ]
     },
     "execution_count": 14,
     "metadata": {},
     "output_type": "execute_result"
    }
   ],
   "source": [
    "dfwb = reader(week_before)\n",
    "dfwa = reader(week_after)\n",
    "dfma = reader(month_after)\n",
    "dfwb[week_before[0]].head()"
   ]
  },
  {
   "cell_type": "code",
   "execution_count": 52,
   "metadata": {},
   "outputs": [],
   "source": [
    "def usage_week(week, df, line3=False):\n",
    "    if line3:\n",
    "        # stacked bar chart with line 4 on top\n",
    "        usage = {}\n",
    "        usage['other'] = [np.sum(df[day]['Line_Id'] != 7) for day in week] # usage not on line 3\n",
    "        usage['line3'] = [np.sum(df[day]['Line_Id'] == 7) for day in week] # usage on line 3\n",
    "\n",
    "#         plt.barh(ind, usage['line3'], width)\n",
    "#         plot = plt.barh(ind, usage['other'], width, left=usage['line3'])\n",
    "    else:\n",
    "        # regular bar chart\n",
    "        usage = [df[day].shape[0] for day in week]\n",
    "\n",
    "#         plot = plt.barh(ind, usage, width)\n",
    "        \n",
    "    return usage"
   ]
  },
  {
   "cell_type": "code",
   "execution_count": 53,
   "metadata": {},
   "outputs": [
    {
     "data": {
      "image/png": "[encoded data removed]",
      "text/plain": [
       "<matplotlib.figure.Figure at 0x7f894e13eac8>"
      ]
     },
     "metadata": {},
     "output_type": "display_data"
    }
   ],
   "source": [
    "usage_wb = usage_week(week_before, dfwb)\n",
    "usage_wa = usage_week(week_after, dfwa, line3=True)\n",
    "\n",
    "ind = np.arange(7)\n",
    "width = 0.4\n",
    "open_labels = ['W','Th','F','Sa','Su','M','Tu']\n",
    "\n",
    "ax1 = plt.subplot(211)\n",
    "plt.bar(ind, usage_wb, width)\n",
    "plt.grid()\n",
    "plt.title('Number of trips the weeks before and after Line 3 opening')\n",
    "\n",
    "ax2 = plt.subplot(212, sharex=ax1, sharey=ax1)\n",
    "plt.bar(ind, usage_wa['line3'], width, label='Line 3')\n",
    "plt.bar(ind, usage_wa['other'], width, bottom=usage_wa['line3'], label='Other lines')\n",
    "plt.xticks(ind,open_labels)\n",
    "plt.legend()\n",
    "plt.grid()\n",
    "\n",
    "plt.show()"
   ]
  },
  {
   "cell_type": "code",
   "execution_count": 54,
   "metadata": {},
   "outputs": [
    {
     "data": {
      "image/png": "[encoded data removed]",
      "text/plain": [
       "<matplotlib.figure.Figure at 0x7f894e13bf98>"
      ]
     },
     "metadata": {},
     "output_type": "display_data"
    }
   ],
   "source": [
    "usage_ma = usage_week(month_after, dfma, line3=True)\n",
    "plt.bar(ind, usage_ma['line3'], width, label='Line 3')\n",
    "plt.bar(ind, usage_ma['other'], width, bottom=usage_ma['line3'], label='Other Lines')\n",
    "plt.show()"
   ]
  },
  {
   "cell_type": "code",
   "execution_count": 58,
   "metadata": {},
   "outputs": [
    {
     "data": {
      "image/png": "[encoded data removed]",
      "text/plain": [
       "<matplotlib.figure.Figure at 0x7f894e13b3c8>"
      ]
     },
     "metadata": {},
     "output_type": "display_data"
    }
   ],
   "source": [
    "plt.bar(ind, usage_wa['line3'], width, label='Week after')\n",
    "plt.bar(ind+width, usage_ma['line3'], width, label='Month after')\n",
    "plt.xticks(ind+width/2, np.arange(7))\n",
    "plt.show()"
   ]
  }
 ],
 "metadata": {
  "kernelspec": {
   "display_name": "Python 3",
   "language": "python",
   "name": "python3"
  },
  "language_info": {
   "codemirror_mode": {
    "name": "ipython",
    "version": 3
   },
   "file_extension": ".py",
   "mimetype": "text/x-python",
   "name": "python",
   "nbconvert_exporter": "python",
   "pygments_lexer": "ipython3",
   "version": "3.6.4"
  }
 },
 "nbformat": 4,
 "nbformat_minor": 2
}
