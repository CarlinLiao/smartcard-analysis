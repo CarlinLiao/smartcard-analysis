{
 "cells": [
  {
   "cell_type": "code",
   "execution_count": 1,
   "metadata": {},
   "outputs": [],
   "source": [
    "import numpy as np\n",
    "import matplotlib.pyplot as plt\n",
    "import pandas as pd"
   ]
  },
  {
   "cell_type": "markdown",
   "metadata": {},
   "source": [
    "# New Line Usage Evolution\n",
    "\n",
    "In this notebook we'll take a look at how the number of riders changes on Line 3 as time passes after its opening. First load in data from the week right before opening, the week after opening, and for a month after opening (the latest that we have)."
   ]
  },
  {
   "cell_type": "code",
   "execution_count": 2,
   "metadata": {},
   "outputs": [],
   "source": [
    "week_before = ['201503{}'.format(d) for d in range(25,32)]\n",
    "week_after = ['2015040{}'.format(d) for d in range(1,8)]\n",
    "month_after = ['201504{}'.format(d) for d in range(24,31)]\n",
    "\n",
    "header = pd.read_csv('../nanjing-data/header.csv')"
   ]
  },
  {
   "cell_type": "code",
   "execution_count": 3,
   "metadata": {},
   "outputs": [],
   "source": [
    "def reader(week):\n",
    "    df = {}\n",
    "    \n",
    "    for date in week:\n",
    "    \n",
    "        # attach header\n",
    "        df[date] = pd.read_csv('../nanjing-data/{}.csv'.format(date), header=None)\n",
    "        df[date].columns = header.columns\n",
    "        \n",
    "        # drop all but station entrances\n",
    "        df[date] = df[date].loc[df[date]['Entry_Or_Exit'] == 1,:]\n",
    "\n",
    "        # drop unnecessary columns\n",
    "        df[date].drop(labels=['Card_Id', 'Card_Id_Long', 'Card_Type', 'Fare', 'Device_Id', 'Entry_Or_Exit'], axis=1, inplace=True) #StationId too possibly\n",
    "\n",
    "        # convert datetime\n",
    "        df[date]['Time'] = pd.to_datetime(df[date]['Time'])\n",
    "    \n",
    "    return df"
   ]
  },
  {
   "cell_type": "code",
   "execution_count": 4,
   "metadata": {},
   "outputs": [
    {
     "data": {
      "text/html": [
       "<div>\n",
       "<style scoped>\n",
       "    .dataframe tbody tr th:only-of-type {\n",
       "        vertical-align: middle;\n",
       "    }\n",
       "\n",
       "    .dataframe tbody tr th {\n",
       "        vertical-align: top;\n",
       "    }\n",
       "\n",
       "    .dataframe thead th {\n",
       "        text-align: right;\n",
       "    }\n",
       "</style>\n",
       "<table border=\"1\" class=\"dataframe\">\n",
       "  <thead>\n",
       "    <tr style=\"text-align: right;\">\n",
       "      <th></th>\n",
       "      <th>Time</th>\n",
       "      <th>Line_Id</th>\n",
       "      <th>StationId</th>\n",
       "    </tr>\n",
       "  </thead>\n",
       "  <tbody>\n",
       "    <tr>\n",
       "      <th>0</th>\n",
       "      <td>2015-03-25 06:10:09</td>\n",
       "      <td>4</td>\n",
       "      <td>1</td>\n",
       "    </tr>\n",
       "    <tr>\n",
       "      <th>1</th>\n",
       "      <td>2015-03-25 07:00:17</td>\n",
       "      <td>4</td>\n",
       "      <td>1</td>\n",
       "    </tr>\n",
       "    <tr>\n",
       "      <th>2</th>\n",
       "      <td>2015-03-25 07:08:18</td>\n",
       "      <td>4</td>\n",
       "      <td>1</td>\n",
       "    </tr>\n",
       "    <tr>\n",
       "      <th>3</th>\n",
       "      <td>2015-03-25 07:11:52</td>\n",
       "      <td>4</td>\n",
       "      <td>1</td>\n",
       "    </tr>\n",
       "    <tr>\n",
       "      <th>4</th>\n",
       "      <td>2015-03-25 06:34:48</td>\n",
       "      <td>4</td>\n",
       "      <td>1</td>\n",
       "    </tr>\n",
       "  </tbody>\n",
       "</table>\n",
       "</div>"
      ],
      "text/plain": [
       "                 Time  Line_Id  StationId\n",
       "0 2015-03-25 06:10:09        4          1\n",
       "1 2015-03-25 07:00:17        4          1\n",
       "2 2015-03-25 07:08:18        4          1\n",
       "3 2015-03-25 07:11:52        4          1\n",
       "4 2015-03-25 06:34:48        4          1"
      ]
     },
     "execution_count": 4,
     "metadata": {},
     "output_type": "execute_result"
    }
   ],
   "source": [
    "dfwb = reader(week_before)\n",
    "dfwa = reader(week_after)\n",
    "dfma = reader(month_after)\n",
    "dfwb[week_before[0]].head()"
   ]
  },
  {
   "cell_type": "code",
   "execution_count": 15,
   "metadata": {},
   "outputs": [],
   "source": [
    "def usage_week(week, df, line3=False):\n",
    "    scaler = 1e6\n",
    "    \n",
    "    if line3:\n",
    "        # stacked bar chart with line 4 on top\n",
    "        usage = {}\n",
    "        usage['other'] = np.array([np.sum(df[day]['Line_Id'] != 7) for day in week])/scaler # usage not on line 3\n",
    "        usage['line3'] = np.array([np.sum(df[day]['Line_Id'] == 7) for day in week])/scaler # usage on line 3\n",
    "\n",
    "#         plt.barh(ind, usage['line3'], width)\n",
    "#         plot = plt.barh(ind, usage['other'], width, left=usage['line3'])\n",
    "    else:\n",
    "        # regular bar chart\n",
    "        usage = np.array([df[day].shape[0] for day in week])/scaler\n",
    "\n",
    "#         plot = plt.barh(ind, usage, width)\n",
    "        \n",
    "    return usage"
   ]
  },
  {
   "cell_type": "code",
   "execution_count": 52,
   "metadata": {},
   "outputs": [],
   "source": [
    "usage_wb = usage_week(week_before, dfwb)\n",
    "usage_wa = usage_week(week_after, dfwa, line3=True)\n",
    "\n",
    "ind = np.arange(7)\n",
    "width = 0.3\n",
    "open_labels = ['W','Th','F','Sa','Su','M','Tu']\n",
    "reorder = [-1,-2,0,1,2,3,4] # reorder last week of april to start at wed if necessary"
   ]
  },
  {
   "cell_type": "code",
   "execution_count": 84,
   "metadata": {},
   "outputs": [
    {
     "data": {
      "image/png": "[encoded data removed]",
      "text/plain": [
       "<Figure size 720x288 with 1 Axes>"
      ]
     },
     "metadata": {},
     "output_type": "display_data"
    }
   ],
   "source": [
    "# all trips before, after, and 1 month after opening\n",
    "\n",
    "plt.figure(figsize=(10,4))\n",
    "ax = plt.subplot(111)\n",
    "\n",
    "# plot bars\n",
    "plt.bar(ind, usage_wb, width, edgecolor='k', color='steelblue', label='Other lines')\n",
    "plt.bar(ind+width, usage_wa['other'], width, edgecolor='k', color='steelblue')\n",
    "plt.bar(ind+width, usage_wa['line3'], width, edgecolor='k', color='orange', bottom=usage_wa['other'], label='Line 3')\n",
    "plt.bar(ind+width*2, usage_ma['other'][reorder], width, edgecolor='k', color='steelblue')\n",
    "plt.bar(ind+width*2, usage_ma['line3'][reorder], width, edgecolor='k', color='orange', bottom=usage_ma['other'][reorder])\n",
    "\n",
    "# label the chart\n",
    "plt.xticks(ind+width,open_labels)\n",
    "plt.title('Usage the week before, week of, and 1 month after Line 3 opens')\n",
    "plt.ylabel('Trips (millions)')\n",
    "\n",
    "plt.legend()\n",
    "# # Shrink current axis by 10%\n",
    "# box = ax.get_position()\n",
    "# ax.set_position([box.x0, box.y0, box.width*0.9, box.height])\n",
    "\n",
    "# # Put a legend to the right of the current axis\n",
    "# ax.legend(loc='center left', bbox_to_anchor=(1, 0.5))\n",
    "\n",
    "# put the grid below\n",
    "ax.grid()\n",
    "ax.set_axisbelow(True)\n",
    "\n",
    "plt.savefig('figs/alltrips.png', dpi=600)\n",
    "plt.show()"
   ]
  },
  {
   "cell_type": "code",
   "execution_count": 85,
   "metadata": {},
   "outputs": [
    {
     "data": {
      "image/png": "[encoded data removed]",
      "text/plain": [
       "<Figure size 504x216 with 1 Axes>"
      ]
     },
     "metadata": {},
     "output_type": "display_data"
    }
   ],
   "source": [
    "# only line 3 trips the week of and 1 mo after opening\n",
    "\n",
    "plt.figure(figsize=(7,3))\n",
    "ax = plt.subplot(111)\n",
    "rescaler = 1000\n",
    "\n",
    "plt.bar(ind, usage_wa['line3']*rescaler, width, label='Week after', color='navy')\n",
    "plt.bar(ind+width, usage_ma['line3'][reorder]*rescaler, width, label='Month after', color='turquoise')\n",
    "plt.xticks(ind+width/2, open_labels)\n",
    "plt.title('Line 3 usage the week and month after opening')\n",
    "\n",
    "plt.legend()\n",
    "# # Shrink current axis by 10%\n",
    "# box = ax.get_position()\n",
    "# ax.set_position([box.x0, box.y0, box.width*0.9, box.height])\n",
    "\n",
    "# # Put a legend to the right of the current axis\n",
    "# ax.legend(loc='center left', bbox_to_anchor=(1, 0.5))\n",
    "\n",
    "ax.grid()\n",
    "ax.set_axisbelow(True)\n",
    "\n",
    "plt.ylabel('Trips (thousands)')\n",
    "\n",
    "plt.savefig('figs/line3only.png',dpi=600)\n",
    "plt.show()"
   ]
  },
  {
   "cell_type": "code",
   "execution_count": 17,
   "metadata": {},
   "outputs": [
    {
     "data": {
      "image/png": "[encoded data removed]",
      "text/plain": [
       "<Figure size 720x360 with 2 Axes>"
      ]
     },
     "metadata": {},
     "output_type": "display_data"
    }
   ],
   "source": [
    "# week before and week of line 3 opening\n",
    "\n",
    "plt.figure(figsize=(10,5))\n",
    "\n",
    "ax1 = plt.subplot(211)\n",
    "plt.bar(ind, usage_wb, width, color='steelblue')\n",
    "plt.grid(which='major')\n",
    "plt.grid(which='minor')\n",
    "plt.ylabel('Millions of trips')\n",
    "plt.title('Trips the weeks before and after Line 3 opening')\n",
    "\n",
    "ax2 = plt.subplot(212, sharex=ax1, sharey=ax1)\n",
    "plt.bar(ind, usage_wa['line3'], width, label='Line 3', color='orange')\n",
    "plt.bar(ind, usage_wa['other'], width, bottom=usage_wa['line3'], label='Other lines', color='steelblue')\n",
    "plt.xticks(ind,open_labels)\n",
    "plt.legend()\n",
    "plt.grid()\n",
    "\n",
    "plt.show()"
   ]
  },
  {
   "cell_type": "code",
   "execution_count": 20,
   "metadata": {},
   "outputs": [
    {
     "data": {
      "image/png": "[encoded data removed]",
      "text/plain": [
       "<Figure size 432x288 with 1 Axes>"
      ]
     },
     "metadata": {},
     "output_type": "display_data"
    }
   ],
   "source": [
    "# last week of march vs. first week of april\n",
    "plt.bar(ind, usage_wb, width, color='steelblue')\n",
    "plt.bar(ind+width, usage_wa['other'], width, label='Other lines', color='blue')\n",
    "plt.bar(ind+width, usage_wa['line3'], width, label='Line 3', color='orange', bottom=usage_wa['other'], )\n",
    "plt.xticks(ind+width/2,open_labels)\n",
    "plt.legend()\n",
    "plt.grid()\n",
    "\n",
    "plt.show()"
   ]
  },
  {
   "cell_type": "code",
   "execution_count": 23,
   "metadata": {},
   "outputs": [
    {
     "data": {
      "image/png": "[encoded data removed]",
      "text/plain": [
       "<Figure size 432x288 with 1 Axes>"
      ]
     },
     "metadata": {},
     "output_type": "display_data"
    }
   ],
   "source": [
    "# last week of april\n",
    "\n",
    "usage_ma = usage_week(month_after, dfma, line3=True)\n",
    "plt.bar(ind, usage_ma['line3'], width, label='Line 3')\n",
    "plt.bar(ind, usage_ma['other'], width, bottom=usage_ma['line3'], label='Other Lines')\n",
    "plt.show()"
   ]
  },
  {
   "cell_type": "code",
   "execution_count": 34,
   "metadata": {},
   "outputs": [
    {
     "data": {
      "image/png": "[encoded data removed]",
      "text/plain": [
       "<Figure size 432x288 with 1 Axes>"
      ]
     },
     "metadata": {},
     "output_type": "display_data"
    }
   ],
   "source": [
    "# week after vs. month after\n",
    "plt.bar(ind, usage_wa['other'], width, label='Other lines (week after)', color='blue')\n",
    "plt.bar(ind, usage_wa['line3'], width, label='Line 3 (week after)', color='green', bottom=usage_wa['other'])\n",
    "plt.bar(ind+width, usage_ma['other'], width, label='Other lines (1 month after)', color='lightblue')\n",
    "plt.bar(ind+width, usage_ma['line3'], width, label='Line 3 (1 month after)', color='lightgreen', bottom=usage_ma['other'])\n",
    "plt.xticks(ind+width/2,open_labels)\n",
    "# plt.legend()\n",
    "plt.grid()\n",
    "plt.show()"
   ]
  }
 ],
 "metadata": {
  "kernelspec": {
   "display_name": "Python 3",
   "language": "python",
   "name": "python3"
  },
  "language_info": {
   "codemirror_mode": {
    "name": "ipython",
    "version": 3
   },
   "file_extension": ".py",
   "mimetype": "text/x-python",
   "name": "python",
   "nbconvert_exporter": "python",
   "pygments_lexer": "ipython3",
   "version": "3.6.3"
  }
 },
 "nbformat": 4,
 "nbformat_minor": 2
}
